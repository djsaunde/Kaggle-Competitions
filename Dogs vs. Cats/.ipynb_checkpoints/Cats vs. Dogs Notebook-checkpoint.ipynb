{
 "cells": [
  {
   "cell_type": "markdown",
   "metadata": {},
   "source": [
    "# Cats vs. Dogs Redux: Kernels Edition\n",
    "\n",
    "A notebook for the Cats vs. Dogs Kaggle competition (found at https://www.kaggle.com/c/dogs-vs-cats-redux-kernels-edition/data). I'll borrow some pre-processing steps from various other kernels, but build my own Tensorflow neural network."
   ]
  },
  {
   "cell_type": "markdown",
   "metadata": {},
   "source": [
    "## Imports"
   ]
  },
  {
   "cell_type": "code",
   "execution_count": 2,
   "metadata": {
    "collapsed": false
   },
   "outputs": [],
   "source": [
    "import numpy as np\n",
    "import pandas as np\n",
    "import tensorflow as tf\n",
    "import matplotlib.pyplot as plt\n",
    "import PIL\n",
    "\n",
    "%matplotlib inline"
   ]
  },
  {
   "cell_type": "markdown",
   "metadata": {},
   "source": [
    "## Data Pre-processing\n",
    "\n",
    "It's common in image analysis to normalize luminance (brightness) values to have mean 0 and standard deviation 1. We do that, and apply a slight contrast stretch which ensures that brightness values stay within the bounds of the image encoding.\n",
    "\n",
    "The normalization is applied to luminance (not RBG channels individually), so we first convert to YCbCr space, operate on the Y channel, and then convert back to RBG color channels."
   ]
  },
  {
   "cell_type": "code",
   "execution_count": 4,
   "metadata": {
    "collapsed": true
   },
   "outputs": [],
   "source": [
    "def norm_img(img):\n",
    "    '''\n",
    "    Normalize a PIL image. This normalizes luminance to have mean 0 and standard deviation 1, and applies a\n",
    "    [1%, 99%] contrast stretch.\n",
    "    '''\n",
    "    # convert to YCbCr and split into y, b, r channels\n",
    "    img_y, img_b, img_r = img.convert('YCbCr').split()\n",
    "    \n",
    "    # convert the y channel to a numpy array representtaion\n",
    "    img_y = np.asarray(img_y).astype(float)\n",
    "    \n",
    "    # normalize in range [0, 1], zero-mean, and unit standard deviation\n",
    "    img_y /= 255\n",
    "    img_y -= img_y.mean()\n",
    "    img_y /= img_y.std()\n",
    "    \n",
    "    # apply contrast stretch\n",
    "    scale = np.max([np.abs(np.percentile(img_y, 1.0)), np.abs(np.percentile(img_y, 99.0))])\n",
    "    img_y /= scale\n",
    "    img_y = np.clip(img_y, -1.0, 1.0)\n",
    "    img_y = (img_y + 1.0) / 2.0\n",
    "    \n",
    "    # rescale back to range [0, 255]\n",
    "    img_y = (img_y * 255 + 0.5).astype(np.uint8)\n",
    "    \n",
    "    # create PIL image from img_y\n",
    "    img_y = PIL.Image(img_y)\n",
    "    \n",
    "    # merge the y channel image back with the others and convert back to RGB\n",
    "    img_nrm = PIL.Image.merge('YCbCr', (img_y, img_b, img_r)).convert('RGB')\n",
    "    \n",
    "    # return the luminace normalized image\n",
    "    return img_nrm"
   ]
  },
  {
   "cell_type": "markdown",
   "metadata": {},
   "source": [
    "## Resize Images\n",
    "\n",
    "We resize the images to be square with default side lengths of 224 pixels. The aspect ratio is preserved and gray bars are added as needed to make the image square."
   ]
  },
  {
   "cell_type": "code",
   "execution_count": 5,
   "metadata": {
    "collapsed": true
   },
   "outputs": [],
   "source": [
    "def resize_img(img, size):\n",
    "    '''\n",
    "    Resize a PIL image to be square with side length 'size', and pads with gray bars if necessary.\n",
    "    '''\n",
    "    # get image's original size\n",
    "    width, height = img.size\n",
    "    \n",
    "    # make larger side length equal to 'size' and maintain aspect ratio\n",
    "    if height > width:\n",
    "        height, width = size, int(size * width / height + 0.5)\n",
    "    else:\n",
    "        width, height = size, int(size * hight / width + 0.5)\n",
    "    \n",
    "    # reshaping...\n",
    "    img_res = img.resize((width, height), resample=PIL.Image.BICUBIC)\n",
    "    \n",
    "    # pad the borders to create a square image\n",
    "    img_pad = PIL.Image.new('RGB', (size, size), (128, 128, 128))\n",
    "    ulc = ((size - width) // 2, (size - height) // 2)\n",
    "    img_pad.paste(img_res, ulc)\n",
    "    \n",
    "    # return the padded, resized image\n",
    "    return img_pad"
   ]
  },
  {
   "cell_type": "code",
   "execution_count": null,
   "metadata": {
    "collapsed": true
   },
   "outputs": [],
   "source": []
  }
 ],
 "metadata": {
  "anaconda-cloud": {},
  "kernelspec": {
   "display_name": "Python [conda env:py27]",
   "language": "python",
   "name": "conda-env-py27-py"
  },
  "language_info": {
   "codemirror_mode": {
    "name": "ipython",
    "version": 2
   },
   "file_extension": ".py",
   "mimetype": "text/x-python",
   "name": "python",
   "nbconvert_exporter": "python",
   "pygments_lexer": "ipython2",
   "version": "2.7.13"
  }
 },
 "nbformat": 4,
 "nbformat_minor": 1
}
