{
 "cells": [
  {
   "cell_type": "markdown",
   "metadata": {},
   "source": [
    "# Dog Breed Identification (Part I): Data Exploration\n",
    "\n",
    "This notebook was created to explore the dataset provided by the [Dog Breed Identification Kaggle competition](https://www.kaggle.com/c/dog-breed-identification). After this is accomplished, I will move onto another notebook, this time meant for performing the classification (\"identification\") task; i.e., given an image of a dog, what is its breed? I plan on using a [convolutional neural network](http://cs231n.github.io/convolutional-networks/) architecture of some kind, but I'd like to build it from scratch rather than use a pre-trained network or a pre-defined network architecture.\n",
    "\n",
    "I'm also interested in applying [GANs](https://arxiv.org/abs/1406.2661) to the data, in order to generate new images of dogs, or interpolate between different breeds of dogs, but I image that will take some heavy pre-processing, and may require more data than is available. \n",
    "\n",
    "One barrier to the GAN experiments is the noisiness of the data: many of the images show the _dogs at different scales or resolutions_, and there is plenty of _image clutter_ (including other dogs (!), humans (!), and items in the foreground). Perhaps by running [object localization](https://leonardoaraujosantos.gitbooks.io/artificial-inteligence/content/object_localization_and_detection.html) on the images (i.e., crop them by finding bounding boxes around the doggos, requiring another neural network trained for this task), we could create a dataset better suited to learning a generative model."
   ]
  },
  {
   "cell_type": "markdown",
   "metadata": {},
   "source": [
    "## Preliminary info\n",
    "\n",
    "The dataset contains some 120 dog breeds. All images are taken from the [ImageNet dataset](https://www.kaggle.com/c/imagenet-object-detection-challenge); i.e., this data is a strict subset of ImageNet. All images depict good dogs (superimposed on various backgrounds / part of various middlegrounds)!\n",
    "\n",
    "The Kaggle competition is evaluated on the [multiclass log loss](https://www.kaggle.com/wiki/MultiClassLogLoss), so we will eventually optimize our neural network models for this criterion.\n",
    "\n",
    "__Note__: If you want to run this notebook yourself, you must join the Dog Breed Identification Kaggle competition (linked above), and download / unzip the data to the `data` directory."
   ]
  },
  {
   "cell_type": "markdown",
   "metadata": {},
   "source": [
    "## Imports & miscellany"
   ]
  },
  {
   "cell_type": "code",
   "execution_count": 1,
   "metadata": {
    "collapsed": true
   },
   "outputs": [],
   "source": [
    "import os\n",
    "import PIL\n",
    "import numpy as np\n",
    "import pandas as pd\n",
    "import matplotlib.pyplot as plt\n",
    "\n",
    "from mpl_toolkits.axes_grid1 import ImageGrid\n",
    "from IPython.display import display, Image\n",
    "from IPython.core.display import HTML\n",
    "\n",
    "%matplotlib inline"
   ]
  },
  {
   "cell_type": "markdown",
   "metadata": {},
   "source": [
    "## Inspect some doggos\n",
    "\n",
    "Let's take a look at some sample images from the training data."
   ]
  },
  {
   "cell_type": "code",
   "execution_count": 2,
   "metadata": {},
   "outputs": [
    {
     "ename": "AttributeError",
     "evalue": "module 'os' has no attribute 'isdir'",
     "output_type": "error",
     "traceback": [
      "\u001b[0;31m---------------------------------------------------------------------------\u001b[0m",
      "\u001b[0;31mAttributeError\u001b[0m                            Traceback (most recent call last)",
      "\u001b[0;32m<ipython-input-2-d5252e52feb6>\u001b[0m in \u001b[0;36m<module>\u001b[0;34m()\u001b[0m\n\u001b[1;32m     10\u001b[0m \u001b[0;31m# Make sure these directories exist.\u001b[0m\u001b[0;34m\u001b[0m\u001b[0;34m\u001b[0m\u001b[0m\n\u001b[1;32m     11\u001b[0m \u001b[0;32mfor\u001b[0m \u001b[0mdirectory\u001b[0m \u001b[0;32min\u001b[0m \u001b[0;34m[\u001b[0m \u001b[0mprocessed_train_path\u001b[0m\u001b[0;34m,\u001b[0m \u001b[0mprocessed_valid_path\u001b[0m\u001b[0;34m,\u001b[0m \u001b[0mprocessed_test_path\u001b[0m \u001b[0;34m]\u001b[0m\u001b[0;34m:\u001b[0m\u001b[0;34m\u001b[0m\u001b[0m\n\u001b[0;32m---> 12\u001b[0;31m     \u001b[0;32mif\u001b[0m \u001b[0;32mnot\u001b[0m \u001b[0mos\u001b[0m\u001b[0;34m.\u001b[0m\u001b[0misdir\u001b[0m\u001b[0;34m(\u001b[0m\u001b[0mdirectory\u001b[0m\u001b[0;34m)\u001b[0m\u001b[0;34m:\u001b[0m\u001b[0;34m\u001b[0m\u001b[0m\n\u001b[0m\u001b[1;32m     13\u001b[0m         \u001b[0mos\u001b[0m\u001b[0;34m.\u001b[0m\u001b[0mmakedirs\u001b[0m\u001b[0;34m(\u001b[0m\u001b[0mdirectory\u001b[0m\u001b[0;34m)\u001b[0m\u001b[0;34m\u001b[0m\u001b[0m\n",
      "\u001b[0;31mAttributeError\u001b[0m: module 'os' has no attribute 'isdir'"
     ]
    }
   ],
   "source": [
    "# Creating paths to training / test data.\n",
    "train_path = os.path.join('..', 'data', 'train')\n",
    "test_path = os.path.join('..', 'data', 'test')\n",
    "\n",
    "# Creating paths to pre-processed training / validation / test data.\n",
    "processed_train_path = os.path.join('..', 'data', 'processed_train')\n",
    "processed_valid_path = os.path.join('..', 'data', 'processed_valid')\n",
    "processed_test_path = os.path.join('..', 'data', 'processed_test')\n",
    "\n",
    "# Make sure these directories exist.\n",
    "for directory in [ processed_train_path, processed_valid_path, processed_test_path ]:\n",
    "    if not os.path.isdir(directory):\n",
    "        os.makedirs(directory)"
   ]
  },
  {
   "cell_type": "code",
   "execution_count": null,
   "metadata": {
    "scrolled": false
   },
   "outputs": [],
   "source": [
    "n_train = len(os.listdir(train_path))\n",
    "sample_idxs = np.random.choice(n_train, 5, replace=False)\n",
    "\n",
    "for idx in sample_idxs:\n",
    "    # Choose a random file from the training data directory.\n",
    "    filename = os.listdir(train_path)[idx]\n",
    "    \n",
    "    # Display the image contained in the chosen file.\n",
    "    image = Image(os.path.join(train_path, filename))\n",
    "    display(image)"
   ]
  },
  {
   "cell_type": "markdown",
   "metadata": {},
   "source": [
    "Those are some handsome doggos! One thing to notice: The images come in many shapes and sizes. This can be problematic for training neural networks, but _convolutional neural networks_ actually handle this quite naturally due to a property they exhibit known as [translation invariance](https://stats.stackexchange.com/questions/208936/what-is-translation-invariance-in-computer-vision-and-convolutional-neural-netwo); basically, the same feature has equal importance at different points in the input space. However, due to computational considerations (GPUs are more efficient when input data is uniformly sized), we will standardize the input below.\n",
    "\n",
    "Note: If you keep sampling (by running this bit of code), you'll notice that there are some __weird__ examples (perhaps corresponding to outliers, in some statistical sense). For example, I've notice images including __dogs and humans__ or __multiple breeds of dog__ in a single picture. This should be confusing to our neural network model; however, we hope that there are much fewer weird examples than there are typical ones! Even so, these examples may help to __regularize__ the network; that is, allow for better performance on unseen data. We also hope that examples like these help make our neural network models robust to background noise (i.e., irrelevant information)."
   ]
  },
  {
   "cell_type": "markdown",
   "metadata": {},
   "source": [
    "## Tell me more about these doggos!\n",
    "\n",
    "Let's get a feel for the dataset we're working with. We're looking for simple statistics at this point: How much (training, test) data do we have? What is the typical size of an image, and how does this vary? How well-represented is each dog breed in the datset?"
   ]
  },
  {
   "cell_type": "code",
   "execution_count": null,
   "metadata": {},
   "outputs": [],
   "source": [
    "# Get the number of training, testing data.\n",
    "n_train, n_test = len(os.listdir(train_path)), len(os.listdir(test_path))\n",
    "\n",
    "# Print them out!\n",
    "print('No. training data:', n_train)\n",
    "print('No. test data:', n_test)"
   ]
  },
  {
   "cell_type": "code",
   "execution_count": null,
   "metadata": {
    "collapsed": true
   },
   "outputs": [],
   "source": [
    "# Calculate the average, minimum, and maximum width \n",
    "# and height of images in the training data.\n",
    "widths, heights = [], []\n",
    "width_min, width_max = np.inf, -np.inf\n",
    "height_min, height_max = np.inf, -np.inf\n",
    "\n",
    "for filename in os.listdir(train_path):\n",
    "    image = PIL.Image.open(os.path.join(train_path, filename))\n",
    "    \n",
    "    # Append image dimensions to list.\n",
    "    widths.append(image.size[0])  # width\n",
    "    heights.append(image.size[1])  # height"
   ]
  },
  {
   "cell_type": "code",
   "execution_count": null,
   "metadata": {},
   "outputs": [],
   "source": [
    "# Print out stats for viewing pleasure. \n",
    "print('Training data average (width, height): ', (np.mean(widths), np.mean(heights)))\n",
    "print('Training data (minimum width, maximum width): ', (np.min(widths), np.max(widths)))\n",
    "print('Training data (minimum height, maximum height): ', (np.min(heights), np.max(heights)))\n",
    "print('Training data (STD of widths, STD of heights): ', (np.std(widths), np.std(heights)))"
   ]
  },
  {
   "cell_type": "code",
   "execution_count": null,
   "metadata": {},
   "outputs": [],
   "source": [
    "# Plot histograms of heights and widths.\n",
    "fig, (ax1, ax2) = plt.subplots(2, figsize=(12, 8))\n",
    "fig.suptitle('Histograms of training image widths, heights')\n",
    "\n",
    "ax1.hist(widths, bins=100); ax1.set_xlabel('Width'); ax1.set_ylabel('No. of images')\n",
    "ax2.hist(heights, bins=100); ax2.set_xlabel('Height'); ax2.set_ylabel('No. of images')\n",
    "\n",
    "plt.show()"
   ]
  },
  {
   "cell_type": "markdown",
   "metadata": {},
   "source": [
    "The data varies __dramatically__ in size, but _most are concentrated around the average width and height_."
   ]
  },
  {
   "cell_type": "markdown",
   "metadata": {},
   "source": [
    "## How are the doggo breeds distributed?\n",
    "\n",
    "Let's look at the distribution of labels for the training data. We'll start by loading up the labels, and then taking a look at some simple statistics. "
   ]
  },
  {
   "cell_type": "code",
   "execution_count": null,
   "metadata": {},
   "outputs": [],
   "source": [
    "# Load up the training data labels using pandas (for .csv files, it's quite fast).\n",
    "train_labels_path = os.path.join('..', 'data', 'labels.csv')\n",
    "train_labels = pd.read_csv(train_labels_path)\n",
    "\n",
    "# Show the first 10 lines of the DataFrame containing fields \"id\" and \"breed\".\n",
    "train_labels.head(10)"
   ]
  },
  {
   "cell_type": "code",
   "execution_count": null,
   "metadata": {},
   "outputs": [],
   "source": [
    "# Use the built-in DataFrame function `describe` function to see a short summary of the data.\n",
    "train_labels.describe()"
   ]
  },
  {
   "cell_type": "markdown",
   "metadata": {},
   "source": [
    "This is a nice feature, but we want more detail. Let's try creating a histogram of the dog breeds."
   ]
  },
  {
   "cell_type": "code",
   "execution_count": null,
   "metadata": {},
   "outputs": [],
   "source": [
    "# Use the built-in DataFram function `hist` to plot a histogram of the dog breeds.\n",
    "hist = train_labels['breed'].hist(figsize=(16, 8), bins=120, xrot=90, xlabelsize=8)\n",
    "plt.show()"
   ]
  },
  {
   "cell_type": "markdown",
   "metadata": {},
   "source": [
    "If you squint your eyes at the x-axis, you will be able to make out the dog breeds listed there, and match them up with their frequency in the training data. It's an informative (and nice-looking!) plot: We can see that no dog breed occurs fewer than 60 times or more than 130 times in the training data, and we might expect better (worse) test accuracies on the breeds for which there are more (less) data."
   ]
  },
  {
   "cell_type": "markdown",
   "metadata": {},
   "source": [
    "## Doggo pre-processing\n",
    "\n",
    "To make our lives easier prior to neural network training, we shall pre-process our data into a format amenable to neural network libraries. Namely, we'll store the data as `numpy.ndarrays`, a super-efficient data structure designed for _quickly manipulating and computing with n-dimensional arrays_.\n",
    "\n",
    "1. We'll pre-process all the data into equally-sized images, _amenable to efficient GPU operation_ during neural network training.\n",
    "2. We'll split the training data into _training, validation partitions_ to use for network [_hyper-parameter tuning_](https://en.wikipedia.org/wiki/Hyperparameter_(machine_learning)).\n",
    "\n",
    "We begin by defining a function to read a single image into a `numpy.ndarray` object. This will read an `.jpg` image from disk, and resize it into a fixed width and height. We choose a __default image size of (256, 256)__, since it seems reasonable to somewhat downsample the images without losing too much information.\n",
    "\n",
    "One could employ Fourier analysis on the images to confirm that we aren't losing too much high-frequency information in the image data, but due to lack of time, we will let this go empirically unjustified. Of course, we might expect to lose more information on the larger images, but on the whole, most images will only be mildly altered."
   ]
  },
  {
   "cell_type": "code",
   "execution_count": null,
   "metadata": {
    "collapsed": true
   },
   "outputs": [],
   "source": [
    "def read_img(ID, train=True, size=(256, 256)):\n",
    "    \"\"\"\n",
    "    Read and resize a single image.\n",
    "    \n",
    "    - Arguments:\n",
    "        ID (str): ID of image to be read.\n",
    "        train (bool): Whether this is a training or test image.\n",
    "        size (tuple(int)): The new size of the image.\n",
    "    \n",
    "    - Returns:\n",
    "        Image as numpy.ndarray.\n",
    "    \"\"\"\n",
    "    # Get the image from disk using pillow.\n",
    "    if train:\n",
    "        image = PIL.Image.open(os.path.join(train_path, '%s.jpg' % ID))\n",
    "    else:\n",
    "        image = PIL.Image.open(os.path.join(test_path, '%s.jpg' % ID))\n",
    "    \n",
    "    # Cast the Pillow image to a numpy.ndarray and return it.\n",
    "    image = np.array(image.resize(size))\n",
    "    return image"
   ]
  },
  {
   "cell_type": "markdown",
   "metadata": {},
   "source": [
    "Now, we will run through all the training and test data, creating `numpy.ndarray`s as we go, to be used during neural network training and evaluation. "
   ]
  },
  {
   "cell_type": "code",
   "execution_count": null,
   "metadata": {
    "collapsed": true
   },
   "outputs": [],
   "source": [
    "# Specify training / validation split percentages.\n",
    "train_split = 0.8  # 80% of the labeled data is used for network training."
   ]
  },
  {
   "cell_type": "markdown",
   "metadata": {},
   "source": [
    "__Note__: You'll likely need ~16Gb of memory in order to run the code block below."
   ]
  },
  {
   "cell_type": "code",
   "execution_count": null,
   "metadata": {},
   "outputs": [],
   "source": [
    "# Create a 4D array of shape (N, W, H, D) containing all the training data.\n",
    "X_train = np.array([ read_img(ID.split('.')[0]) for ID in sorted(os.listdir(train_path)) ])\n",
    "\n",
    "# Split the labeled data into training, validation partitions.\n",
    "X_train, X_valid = X_train[:int(0.8 * len(X_train))], X_train[int(0.8 * len(X_train)):]\n",
    "\n",
    "print('Shape of training data (N, W, H, D):', X_train.shape)\n",
    "print('Shape of validation data (N, W, H, D):', X_valid.shape)"
   ]
  },
  {
   "cell_type": "code",
   "execution_count": null,
   "metadata": {
    "collapsed": true
   },
   "outputs": [],
   "source": [
    "# Create a mapping from dog breeds (image categories) to unique integer labels.\n",
    "breeds = sorted(train_labels['breed'].unique())\n",
    "class_map = { breed : idx for idx, breed in enumerate(breeds) }\n",
    "inverse_class_map = { idx : breed for breed, idx in class_map.items()}"
   ]
  },
  {
   "cell_type": "code",
   "execution_count": null,
   "metadata": {},
   "outputs": [],
   "source": [
    "# Create a 1D array of shape (N,) contained all the training labels.\n",
    "y_train = np.array([ class_map[train_labels[train_labels['id'] == \\\n",
    "                        ID.split('.')[0]]['breed'].tolist()[0]] for \\\n",
    "                                ID in sorted(os.listdir(train_path)) ])\n",
    "\n",
    "# Convert 1D array of labels to a 2D array of shape (N, K)\n",
    "# of one-hot encoded labels, where K = no. of dog breeds.\n",
    "one_hot = np.zeros((y_train.shape[0], len(np.unique(y_train))))\n",
    "one_hot[np.arange(y_train.shape[0]), y_train] = 1\n",
    "y_train = one_hot\n",
    "\n",
    "# Split the labeled data into training, validation partitions.\n",
    "y_train, y_valid = y_train[:int(0.8 * len(y_train))], y_train[int(0.8 * len(y_train)):]\n",
    "\n",
    "print('Shape of training labels (N, K):', y_train.shape)\n",
    "print('Shape of validation labels (N, K):', y_valid.shape)\n",
    "\n",
    "# Save out the pre-processed training, validation data to disk.\n",
    "for (idx, features, target) in enumerate(zip(X_train, y_train)):\n",
    "    np.save(os.path.join(processed_train_path, 'train%d.npy' % idx), (features, target))\n",
    "\n",
    "for (idx, features, target) in enumerate(zip(X_valid, y_valid)):\n",
    "    np.save(os.path.join(processed_valid_path, 'valid%d.npy' % idx), (features, target))\n",
    "\n",
    "del X_train, y_train, X_valid, y_valid"
   ]
  },
  {
   "cell_type": "code",
   "execution_count": null,
   "metadata": {},
   "outputs": [],
   "source": [
    "# Create a 4D array of shape (N, W, H, D) containing all the training data.\n",
    "X_test = np.array([ read_img(ID.split('.')[0], train=False) for ID in sorted(os.listdir(test_path)) ])\n",
    "\n",
    "print('Shape of test data (N, W, H, D):', X_test.shape)\n",
    "\n",
    "# Save out the pre-processed training data to disk.\n",
    "for idx, datum in enumerate(X_test):\n",
    "    np.save(os.path.join('..', 'data', 'X_test%d.npy' % idx), datum)\n",
    "\n",
    "del X_test"
   ]
  },
  {
   "cell_type": "markdown",
   "metadata": {},
   "source": [
    "## Looking at pre-processed doggos\n",
    "\n",
    "To wrap up this notebook, why don't we take a look a some examples the (preprocessed) validation partition, along with their labels? "
   ]
  },
  {
   "cell_type": "code",
   "execution_count": null,
   "metadata": {},
   "outputs": [],
   "source": [
    "# Number of images to display in a __square__ grid.\n",
    "n_im = 36\n",
    "n_im_sqrt = int(np.sqrt(n_im))\n",
    "\n",
    "# Reload the validation images and labels.\n",
    "X_valid = np.array([ np.load(os.path.join('..', 'data', 'X_valid%d.npy' % idx)) for idx in range(n_im) ])\n",
    "y_valid = np.array([ np.load(os.path.join('..', 'data', 'y_valid%d.npy' % idx)) for idx in range(n_im) ])\n",
    "\n",
    "# Take a sample of `n_im` images and corresponding labels from the validation data.\n",
    "sample_idxs = np.random.choice(X_valid.shape[0], size=n_im, replace=False)\n",
    "X = X_valid[sample_idxs]\n",
    "y = y_valid[sample_idxs]\n",
    "\n",
    "# Create an ImageGrid of the sampled validation images\n",
    "# with their corresponding categorical labels.\n",
    "fig = plt.figure(1, figsize=(16, 16))\n",
    "grid = ImageGrid(fig, 111, nrows_ncols=(n_im_sqrt, n_im_sqrt), axes_pad=0.05)\n",
    "for idx in range(n_im):\n",
    "    ax = grid[idx]\n",
    "    ax.imshow(X[idx] / 255)\n",
    "    ax.axis('off')\n",
    "    \n",
    "    int_label = np.argmax(y[idx])\n",
    "    ax.text(0, 0, '%s' % inverse_class_map[int_label], color='k', backgroundcolor='w', alpha=0.8)"
   ]
  },
  {
   "cell_type": "markdown",
   "metadata": {},
   "source": [
    "Aren't they beautiful? Now, all images have size (256, 256), as mentioned above. You'll notice that some images seem lower-resolution than others; this is likely due to their original size being far from the chosen default image size. We might instead be interested in keeping the images' original [aspect ratio](https://en.wikipedia.org/wiki/Aspect_ratio_(image)), rescaling it, and taking fixed crops of the image (say, top left, top right, center, ...), which is typically used as a [__data_augmentation__](https://www.quora.com/What-does-the-term-data-Augmentation-mean-in-the-context-of-Machine-Learning) technique, which, again, helps to __regularize__ the neural network training process."
   ]
  }
 ],
 "metadata": {
  "anaconda-cloud": {},
  "kernelspec": {
   "display_name": "Python 3",
   "language": "python",
   "name": "python3"
  },
  "language_info": {
   "codemirror_mode": {
    "name": "ipython",
    "version": 3
   },
   "file_extension": ".py",
   "mimetype": "text/x-python",
   "name": "python",
   "nbconvert_exporter": "python",
   "pygments_lexer": "ipython3",
   "version": "3.6.3"
  }
 },
 "nbformat": 4,
 "nbformat_minor": 2
}
